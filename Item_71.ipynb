{
 "cells": [
  {
   "cell_type": "markdown",
   "metadata": {},
   "source": [
    "### **<u>Item 71: Prefer deque for Producer-Consumer Queues</u>**"
   ]
  },
  {
   "cell_type": "markdown",
   "metadata": {},
   "source": [
    "#### <span style=\"color: yellowgreen\">**_(1) FIFO_**</span>"
   ]
  },
  {
   "cell_type": "markdown",
   "metadata": {},
   "source": [
    "&emsp; 1. **이메일 처리 예시**"
   ]
  },
  {
   "cell_type": "code",
   "execution_count": 1,
   "metadata": {},
   "outputs": [],
   "source": [
    "# 이메일 메시지를 나타내는 클래스\n",
    "\n",
    "class Email:\n",
    "    def __init__(self, sender, receiver, message):\n",
    "        self.sender = sender\n",
    "        self.receiver = receiver\n",
    "        self.message = message\n",
    "        ..."
   ]
  },
  {
   "cell_type": "code",
   "execution_count": 2,
   "metadata": {},
   "outputs": [],
   "source": [
    "class NoEmailError(Exception):\n",
    "    pass\n",
    "\n",
    "def try_receive_email():\n",
    "    # Email 인스턴스를 반환하거나 NoEmailError 예외 발생\n",
    "    ..."
   ]
  },
  {
   "cell_type": "code",
   "execution_count": 3,
   "metadata": {},
   "outputs": [],
   "source": [
    "def produce_emails(queue):\n",
    "    while True:\n",
    "        try:\n",
    "            email = try_receive_email()\n",
    "        except NoEmailError:\n",
    "            return\n",
    "        else:\n",
    "            queue.append(email)  # Producer"
   ]
  },
  {
   "cell_type": "code",
   "execution_count": 4,
   "metadata": {},
   "outputs": [],
   "source": [
    "def consume_one_email(queue):\n",
    "    if not queue:\n",
    "        return\n",
    "    email = queue.pop(0)  # Consumer\n",
    "    \n",
    "    # 이메일을 장기 보관을 위해 인덱싱하는 코드\n",
    "    ..."
   ]
  },
  {
   "cell_type": "code",
   "execution_count": 5,
   "metadata": {},
   "outputs": [],
   "source": [
    "def loop(queue, keep_running):\n",
    "    while keep_running():\n",
    "        produce_emails(queue)\n",
    "        consume_one_email(queue)\n",
    "\n",
    "def my_end_func():\n",
    "    ...\n",
    "loop([], my_end_func)\n"
   ]
  },
  {
   "cell_type": "code",
   "execution_count": 6,
   "metadata": {},
   "outputs": [],
   "source": [
    "import timeit\n",
    "\n",
    "def print_results(count, tests):\n",
    "    avg_iteration = sum(tests) / len(tests)\n",
    "    print(f'\\n원소 수: {count:>5,} 걸린 시간: {avg_iteration:.6f}초')\n",
    "    return count, avg_iteration\n",
    "\n",
    "def list_append_benchmark(count):\n",
    "    def run(queue):\n",
    "        for i in range(count):\n",
    "            queue.append(i)\n",
    "\n",
    "    tests = timeit.repeat(\n",
    "        setup ='queue = []',\n",
    "        stmt = 'run(queue)',\n",
    "        globals=locals(),\n",
    "        repeat=  1000,\n",
    "        number=1)\n",
    "    \n",
    "    return print_results(count, tests)"
   ]
  },
  {
   "cell_type": "code",
   "execution_count": 7,
   "metadata": {},
   "outputs": [
    {
     "name": "stdout",
     "output_type": "stream",
     "text": [
      "\n",
      "원소 수:   500 걸린 시간: 0.000027초\n",
      "\n",
      "원소 수: 1,000 걸린 시간: 0.000052초\n",
      "데이터 크기  2.0배, 걸린 시간  1.9배\n",
      "\n",
      "원소 수: 2,000 걸린 시간: 0.000103초\n",
      "데이터 크기  4.0배, 걸린 시간  3.8배\n",
      "\n",
      "원소 수: 3,000 걸린 시간: 0.000157초\n",
      "데이터 크기  6.0배, 걸린 시간  5.9배\n",
      "\n",
      "원소 수: 4,000 걸린 시간: 0.000216초\n",
      "데이터 크기  8.0배, 걸린 시간  8.1배\n",
      "\n",
      "원소 수: 5,000 걸린 시간: 0.000256초\n",
      "데이터 크기 10.0배, 걸린 시간  9.6배\n"
     ]
    }
   ],
   "source": [
    "def print_delta(before, after):\n",
    "    before_count, before_time = before\n",
    "    after_count, after_time = after\n",
    "    growth = 1 + (after_count - before_count) / before_count\n",
    "    slowdown = 1 + (after_time - before_time) / before_time\n",
    "    print(f'데이터 크기 {growth:>4.1f}배, 걸린 시간 {slowdown:>4.1f}배')\n",
    "\n",
    "baseline = list_append_benchmark(500)\n",
    "for count in (1_000, 2_000, 3_000, 4_000, 5_000):\n",
    "    comparison = list_append_benchmark(count)\n",
    "    print_delta(baseline, comparison)"
   ]
  },
  {
   "cell_type": "markdown",
   "metadata": {},
   "source": [
    "#### <span style=\"color: yellowgreen\">**_(2) deque_**</span>"
   ]
  },
  {
   "cell_type": "markdown",
   "metadata": {},
   "source": [
    "&emsp; **append & appendleft**"
   ]
  },
  {
   "cell_type": "code",
   "execution_count": 9,
   "metadata": {},
   "outputs": [
    {
     "name": "stdout",
     "output_type": "stream",
     "text": [
      "deque([-10, 1, 2, 3, 4])\n",
      "deque([-10, 1, 2, 3, 4, 10])\n"
     ]
    }
   ],
   "source": [
    "# deque 활용의 기본 예시\n",
    "\n",
    "from collections import deque\n",
    "\n",
    "mydeq = deque([1,2,3,4])\n",
    "mydeq.appendleft(-10)        # 왼쪽에 데이터 삽입\n",
    "print(mydeq)                 # deque([-10, 1, 2, 3, 4])\n",
    "\n",
    "mydeq.append(10)             # 오른쪽에 데이터 삽입\n",
    "print(mydeq)                 # deque([-10, 1, 2, 3, 4, 10])"
   ]
  },
  {
   "cell_type": "markdown",
   "metadata": {},
   "source": [
    "&emsp; **pop & popleft**"
   ]
  },
  {
   "cell_type": "code",
   "execution_count": null,
   "metadata": {},
   "outputs": [],
   "source": [
    "from collections import deque\n",
    "\n",
    "mydeq = deque([1,2,3,4])\n",
    "\n",
    "# 오른쪽에서 데이터 제거\n",
    "print(mydeq.pop())          # 4\n",
    "mydeq                       # deque([1, 2, 3])\n",
    "\n",
    "# 왼쪽에서 데이터 제거\n",
    "print(mydeq.popleft())      # 1\n",
    "mydeq                       # deque([2, 3])"
   ]
  },
  {
   "cell_type": "markdown",
   "metadata": {},
   "source": [
    "&emsp; **deque관련 참고 메서드**\n",
    "\n",
    "&emsp;&emsp; - append(item): item을 덱의 오른쪽에 삽입 <br>\n",
    "&emsp;&emsp; - appendleft(item): Item을 덱의 왼쪽에 삽입<br>\n",
    "&emsp;&emsp; - pop(): 덱의 오른쪽 끝 요소를 반환하는 동시에 덱에서 제거<br>\n",
    "&emsp;&emsp; - popleft(): 덱의 왼쪽 끝 요소를 반환하는 동시에 덱에서 제거<br>\n",
    "&emsp;&emsp; - extend(list): 배열(list)을 순환하면서 덱의 오른쪽에 삽입<br>\n",
    "&emsp;&emsp; - extendleft(list): 배열(list)을 순환하면서 덱의 왼쪽에 추가<br>\n",
    "&emsp;&emsp; - emove(item): item을 덱에서 찾아 제거<br>\n",
    "&emsp;&emsp; - rotate(n): 덱의 n만큼 회전(양수일 경우 오른쪽, 음수일 경우 왼쪽)<br>"
   ]
  },
  {
   "cell_type": "markdown",
   "metadata": {},
   "source": [
    "&emsp; 2. **이메일 처리 예시에 deque 적용**"
   ]
  },
  {
   "cell_type": "code",
   "execution_count": 8,
   "metadata": {},
   "outputs": [
    {
     "name": "stdout",
     "output_type": "stream",
     "text": [
      "\n",
      "원소 수:   500 걸린 시간: 0.000000초\n",
      "\n",
      "원소 수: 1,000 걸린 시간: 0.000000초\n",
      "데이터 크기  2.0배, 걸린 시간  1.0배\n",
      "\n",
      "원소 수: 2,000 걸린 시간: 0.000000초\n",
      "데이터 크기  4.0배, 걸린 시간  1.0배\n",
      "\n",
      "원소 수: 3,000 걸린 시간: 0.000000초\n",
      "데이터 크기  6.0배, 걸린 시간  1.0배\n",
      "\n",
      "원소 수: 4,000 걸린 시간: 0.000000초\n",
      "데이터 크기  8.0배, 걸린 시간  1.0배\n",
      "\n",
      "원소 수: 5,000 걸린 시간: 0.000000초\n",
      "데이터 크기 10.0배, 걸린 시간  1.0배\n"
     ]
    }
   ],
   "source": [
    "import collections\n",
    "def  consume_one_email(queue):\n",
    "    if not  queue:\n",
    "        return\n",
    "    email = queue.pop(0) #소비자\n",
    "\n",
    "    #전자우편 메시지 처리\n",
    "    ...\n",
    "\n",
    "def  my_end_func():\n",
    "    ...\n",
    "\n",
    "loop(collections.deque(), my_end_func)\n",
    "#append의 성능이 리스트를 사용하는 성능과 거의 비슷\n",
    "\n",
    "def deque_append_benchmark(count):\n",
    "    def prepare():\n",
    "        return collections.deque()\n",
    "\n",
    "    def run(queue):\n",
    "        while queue:\n",
    "            queue.pop(0)\n",
    "\n",
    "    tests = timeit.repeat(\n",
    "        setup = 'queue = prepare()',\n",
    "        stmt ='run(queue)',\n",
    "        globals = locals(),\n",
    "        repeat = 1000,\n",
    "        number =1)\n",
    "    return print_results(count, tests)\n",
    "import collections\n",
    "\n",
    "baseline = deque_append_benchmark(500)\n",
    "\n",
    "for count in (1_000,2_000,3_000,4_000,5_000):\n",
    "    comparison = deque_append_benchmark(count)\n",
    "    print_delta(baseline, comparison)"
   ]
  },
  {
   "cell_type": "markdown",
   "metadata": {},
   "source": [
    "#### <span style=\"color: yellowgreen\">**_Summary_**</span>\n",
    "\n",
    "&emsp; &#9312; 생산자는 append를 호출해 원소를 추가, 소비자는 pop(0)을 사용해 원소를 받음<br><br>\n",
    "&emsp; &#9313; 리스트를 FIFO queue로 사용 시 queue의 길이가 늘어남에 따라 성능 저하 <br><br>\n",
    "&emsp; &#9314; deque는 queue의 길이와 관계없이 상수 시간 만에 append와 pop을 수행하기 땜누에 FIFO 구현에 이상적"
   ]
  }
 ],
 "metadata": {
  "kernelspec": {
   "display_name": "Python 3",
   "language": "python",
   "name": "python3"
  },
  "language_info": {
   "codemirror_mode": {
    "name": "ipython",
    "version": 3
   },
   "file_extension": ".py",
   "mimetype": "text/x-python",
   "name": "python",
   "nbconvert_exporter": "python",
   "pygments_lexer": "ipython3",
   "version": "3.8.19"
  }
 },
 "nbformat": 4,
 "nbformat_minor": 2
}
