{
 "cells": [
  {
   "cell_type": "markdown",
   "metadata": {},
   "source": [
    "### **<u>Item 67: Use datetime Instead of time for Local Clocks</u>**\n",
    "\n",
    "- 여러 나라의 Local time을 다뤄야 한다면 time 대신 datetime을 사용할 것을 권장<br><br>\n",
    "- 여러 다른 시간대를 신뢰할 수 있게 변환하고 싶으면 datetime 과 pytz 모듈을 함께 사용<br><br>\n",
    "- 항상 시간을 UTC 로 표시하고, 최종적으로 표현하기 직전에 지역시간으로 변환"
   ]
  },
  {
   "cell_type": "markdown",
   "metadata": {},
   "source": [
    "#### <span style=\"color: yellowgreen\">**_(1) The time Module_**</span>"
   ]
  },
  {
   "cell_type": "code",
   "execution_count": 1,
   "metadata": {},
   "outputs": [
    {
     "name": "stdout",
     "output_type": "stream",
     "text": [
      "2019-03-17 07:14:35\n"
     ]
    }
   ],
   "source": [
    "import time\n",
    "\n",
    "now = 1552774475\n",
    "local_tuple = time.localtime(now)\n",
    "time_format = '%Y-%m-%d %H:%M:%S'\n",
    "time_str = time.strftime(time_format, local_tuple)\n",
    "print(time_str)"
   ]
  },
  {
   "cell_type": "code",
   "execution_count": 2,
   "metadata": {},
   "outputs": [
    {
     "name": "stdout",
     "output_type": "stream",
     "text": [
      "1552774475.0\n"
     ]
    }
   ],
   "source": [
    "time_tuple = time.strptime(time_str, time_format)\n",
    "utc_now = time.mktime(time_tuple)\n",
    "print(utc_now)"
   ]
  },
  {
   "cell_type": "markdown",
   "metadata": {},
   "source": [
    "&emsp; - **윈도우 환경에서는 시간대를 지원해주지 않는 예시**"
   ]
  },
  {
   "cell_type": "code",
   "execution_count": 3,
   "metadata": {},
   "outputs": [
    {
     "name": "stdout",
     "output_type": "stream",
     "text": [
      "This example doesn't work on Windows\n"
     ]
    }
   ],
   "source": [
    "import os\n",
    "\n",
    "if os.name == 'nt':\n",
    "   print(\"This example doesn't work on Windows\")\n",
    "\n",
    "else:\n",
    "    parse_format = '%Y-%m-%d %H:%M:%S %Z'\n",
    "    depart_sfo = '2019-03-16 15:45:16 PDT'\n",
    "    time_tuple = time.strptime(depart_sfo, parse_format)\n",
    "    time_str = time.strftime(time_format, time_tuple)\n",
    "    print(time_str)"
   ]
  },
  {
   "cell_type": "markdown",
   "metadata": {},
   "source": [
    "&emsp; - **위의 같은 코드를 리눅스 환경에서 실행했을 때의 모습** <br><br>\n",
    "<img src=\"images/linux_time_example.png\" width=900> "
   ]
  },
  {
   "cell_type": "markdown",
   "metadata": {},
   "source": [
    "&emsp; - **리눅스 환경을 예시로 time 모듈을 통해 여러 시간대를 다루면 위와 같은 ValueError가 발생함** <br><br>\n",
    "&emsp; - **따라서 이러한 환경과 시간대 지원 차이로 인해 datetime, pytz을 사용할 것이 권장됨**"
   ]
  },
  {
   "cell_type": "markdown",
   "metadata": {},
   "source": [
    "#### <span style=\"color: yellowgreen\">**_(2) The datetime Module_**</span>"
   ]
  },
  {
   "cell_type": "code",
   "execution_count": 4,
   "metadata": {},
   "outputs": [
    {
     "name": "stdout",
     "output_type": "stream",
     "text": [
      "2024-09-13 19:13:04+09:00\n"
     ]
    }
   ],
   "source": [
    "from datetime import datetime, timezone\n",
    "\n",
    "now = datetime(2024, 9, 13, 10, 13, 4)\n",
    "now_utc = now.replace(tzinfo=timezone.utc)\n",
    "now_local = now_utc.astimezone()\n",
    "\n",
    "print(now_local)"
   ]
  },
  {
   "cell_type": "markdown",
   "metadata": {},
   "source": [
    "&emsp; - **pytz를 이용하면 여러 시간대로 간편하게 전환 가능**"
   ]
  },
  {
   "cell_type": "code",
   "execution_count": 5,
   "metadata": {},
   "outputs": [
    {
     "name": "stdout",
     "output_type": "stream",
     "text": [
      "2020-08-28 11:13:04+00:00\n",
      "2020-08-28 20:13:04+09:00\n",
      "2020-08-28 16:58:04+05:45\n"
     ]
    }
   ],
   "source": [
    "import pytz\n",
    "\n",
    "arrival_sfo = '2020-08-28 04:13:04'\n",
    "sfo_dt_naive = datetime.strptime(arrival_sfo, time_format)   # 시간대가 설정되지 않은 시간\n",
    "eastern = pytz.timezone('US/Pacific')                        # 샌프란시스코의 시간대\n",
    "sfo_dt = eastern.localize(sfo_dt_naive)                      # 시간대를 샌프란시스코 시간대로 변경\n",
    "utc_dt = pytz.utc.normalize(sfo_dt.astimezone(pytz.utc))     # UTC로 변경\n",
    "print(utc_dt)\n",
    "\n",
    "korea = pytz.timezone('Asia/Seoul')\n",
    "korea_dt = korea.normalize(utc_dt.astimezone(korea))\n",
    "print(korea_dt)\n",
    "\n",
    "nepal = pytz.timezone('Asia/Katmandu')\n",
    "nepal_dt = nepal.normalize(utc_dt.astimezone(nepal))\n",
    "print(nepal_dt)"
   ]
  },
  {
   "cell_type": "markdown",
   "metadata": {},
   "source": [
    "&emsp; - **현재 시간을 다른 로컬 시간으로 변환**"
   ]
  },
  {
   "cell_type": "code",
   "execution_count": 10,
   "metadata": {},
   "outputs": [
    {
     "name": "stdout",
     "output_type": "stream",
     "text": [
      "한국 현재 시간: 2024-09-02 16:15:31\n",
      "샌프란시스코 현재 시간: 2024-09-02 00:15:31\n",
      "네팔 현재 시간: 2024-09-02 13:00:31\n"
     ]
    }
   ],
   "source": [
    "# 한국의 현재 시간 가져오기\n",
    "korea = pytz.timezone('Asia/Seoul')\n",
    "korea_dt = datetime.now(korea)\n",
    "print(\"한국 현재 시간:\", korea_dt.strftime('%Y-%m-%d %H:%M:%S'))\n",
    "\n",
    "# 샌프란시스코 시간대로 변환\n",
    "pacific = pytz.timezone('US/Pacific')\n",
    "sfo_dt = korea_dt.astimezone(pacific)\n",
    "print(\"샌프란시스코 현재 시간:\", sfo_dt.strftime('%Y-%m-%d %H:%M:%S'))\n",
    "\n",
    "# 네팔 시간대로 변환\n",
    "nepal = pytz.timezone('Asia/Katmandu')\n",
    "nepal_dt = korea_dt.astimezone(nepal)\n",
    "print(\"네팔 현재 시간:\", nepal_dt.strftime('%Y-%m-%d %H:%M:%S'))"
   ]
  },
  {
   "cell_type": "markdown",
   "metadata": {},
   "source": [
    "#### <span style=\"color: yellowgreen\">**_Summary_**</span>\n",
    "\n",
    "&emsp; &#9312; 다른 시간대 간 변환에 time 모듈 사용은 지양 <br><br>\n",
    "&emsp; &#9313; datetime 내장 모듈과 pytz 커뮤니티 모듈을 사용해 안정적으로 시간을 변환 가능 <br><br>\n",
    "&emsp; &#9314; 항상 UTC로 시간을 표현"
   ]
  }
 ],
 "metadata": {
  "kernelspec": {
   "display_name": "Python 3",
   "language": "python",
   "name": "python3"
  },
  "language_info": {
   "codemirror_mode": {
    "name": "ipython",
    "version": 3
   },
   "file_extension": ".py",
   "mimetype": "text/x-python",
   "name": "python",
   "nbconvert_exporter": "python",
   "pygments_lexer": "ipython3",
   "version": "3.8.19"
  }
 },
 "nbformat": 4,
 "nbformat_minor": 2
}
