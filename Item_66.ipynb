{
 "cells": [
  {
   "cell_type": "markdown",
   "metadata": {},
   "source": [
    "### **<u>Item 66: Consider contextlib and with Statements for Reusable try/finally Behavior</u>**\n",
    "\n",
    "- 재사용 가능한 try/finally 동작을 원한다면 contextlib과 with문을 활용<br><br>\n",
    "- Python에서는 with문과 같이 특정 문맥(context)안에서만 작업을 수행하는 기능을 제공함"
   ]
  },
  {
   "cell_type": "code",
   "execution_count": 1,
   "metadata": {},
   "outputs": [
    {
     "name": "stdout",
     "output_type": "stream",
     "text": [
      "Lock is held\n"
     ]
    }
   ],
   "source": [
    "from threading import Lock\n",
    "\n",
    "lock = Lock()\n",
    "with lock:\n",
    "    print(\"Lock is held\")"
   ]
  },
  {
   "cell_type": "code",
   "execution_count": 2,
   "metadata": {},
   "outputs": [
    {
     "name": "stdout",
     "output_type": "stream",
     "text": [
      "Lock is held\n"
     ]
    }
   ],
   "source": [
    "lock.acquire()\n",
    "try:\n",
    "    print(\"Lock is held\")\n",
    "finally:\n",
    "    lock.release()"
   ]
  },
  {
   "cell_type": "code",
   "execution_count": 3,
   "metadata": {},
   "outputs": [
    {
     "name": "stderr",
     "output_type": "stream",
     "text": [
      "ERROR:root:이 부분은 오류\n"
     ]
    }
   ],
   "source": [
    "import logging\n",
    "\n",
    "# 기본 로그수준은 warning 이라서, 사전 설정을 해주지 않으면 error 만 출력\n",
    "def my_function():\n",
    "    logging.debug('디버깅')\n",
    "    logging.error('이 부분은 오류')\n",
    "    logging.debug('추가 디버깅')\n",
    "\n",
    "my_function()"
   ]
  },
  {
   "cell_type": "code",
   "execution_count": 6,
   "metadata": {},
   "outputs": [
    {
     "name": "stderr",
     "output_type": "stream",
     "text": [
      "DEBUG:root:디버깅\n",
      "ERROR:root:이 부분은 오류\n",
      "DEBUG:root:추가 디버깅\n"
     ]
    },
    {
     "name": "stdout",
     "output_type": "stream",
     "text": [
      "* 내부 블록\n"
     ]
    }
   ],
   "source": [
    "from contextlib import contextmanager\n",
    "\n",
    "@contextmanager\n",
    "def debug_logging(level):\n",
    "    logger = logging.getLogger()\n",
    "    old_level = logger.getEffectiveLevel()\n",
    "    logger.setLevel(level)\n",
    "    try:\n",
    "        # yield 식은 with 블록의 내용이 실행되는 부분을 의미함\n",
    "        yield\n",
    "    finally:\n",
    "        # with 블록이 끝나면 원래 log level 로 복구한다\n",
    "        logger.setLevel(old_level)"
   ]
  },
  {
   "cell_type": "code",
   "execution_count": 5,
   "metadata": {},
   "outputs": [
    {
     "name": "stderr",
     "output_type": "stream",
     "text": [
      "DEBUG:root:디버깅\n",
      "ERROR:root:이 부분은 오류\n",
      "DEBUG:root:추가 디버깅\n",
      "ERROR:root:이 부분은 오류\n"
     ]
    },
    {
     "name": "stdout",
     "output_type": "stream",
     "text": [
      "* 내부 블록\n",
      "* 외부 블록\n"
     ]
    }
   ],
   "source": [
    "with debug_logging(logging.DEBUG):\n",
    "    print('* 내부 블록')\n",
    "    my_function()           # 모두 출력\n",
    "\n",
    "print('* 외부 블록')\n",
    "my_function()               # error 만 출력"
   ]
  }
 ],
 "metadata": {
  "kernelspec": {
   "display_name": "Python 3",
   "language": "python",
   "name": "python3"
  },
  "language_info": {
   "codemirror_mode": {
    "name": "ipython",
    "version": 3
   },
   "file_extension": ".py",
   "mimetype": "text/x-python",
   "name": "python",
   "nbconvert_exporter": "python",
   "pygments_lexer": "ipython3",
   "version": "3.8.19"
  }
 },
 "nbformat": 4,
 "nbformat_minor": 2
}
