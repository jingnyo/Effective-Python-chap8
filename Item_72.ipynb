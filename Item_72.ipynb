{
 "cells": [
  {
   "cell_type": "markdown",
   "metadata": {},
   "source": [
    "### **<u>Item 72: Consider Searching Sorted Sequences with bisect</u>**\n",
    "- 데이터와 관계없이 index 메서드를 호출할 때 목록에서 특정 값을 검색하는 데는 목록의 길이에 비례하는 선형 시간이 소요됨\n",
    "- bisect 내장 모듈의 bisect_left 함수는 이진 검색 방식으로 O(logN) 시간이 소요됨"
   ]
  },
  {
   "cell_type": "markdown",
   "metadata": {},
   "source": [
    "#### <span style=\"color: yellowgreen\">**_(1) 정렬된 리스트 검색을 위한 bisect 모듈 활용_**</span>"
   ]
  },
  {
   "cell_type": "code",
   "execution_count": 3,
   "metadata": {},
   "outputs": [
    {
     "name": "stdout",
     "output_type": "stream",
     "text": [
      "선형 검색: 5.084038초\n",
      "이진 검색: 0.004739초\n",
      "선형 검색이 1072.8배 더 걸림\n"
     ]
    }
   ],
   "source": [
    "import random\n",
    "import timeit\n",
    "from bisect import bisect_left\n",
    "\n",
    "size = 10**5\n",
    "iterations = 1000\n",
    "\n",
    "data = list(range(size))\n",
    "to_lookup = [random.randint(0, size) for _ in range(iterations)]\n",
    "\n",
    "\n",
    "def run_linear(data, to_lookup):\n",
    "    for index in to_lookup:\n",
    "        data.index(index)\n",
    "\n",
    "\n",
    "def run_bisect(data, to_lookup):\n",
    "    for index in to_lookup:\n",
    "        bisect_left(data, index)\n",
    "\n",
    "\n",
    "baseline = timeit.timeit(\n",
    "    stmt=\"run_linear(data, to_lookup)\", globals=globals(), number=10\n",
    ")\n",
    "\n",
    "print(f\"선형 검색: {baseline:.6f}초\")\n",
    "\n",
    "comparison = timeit.timeit(\n",
    "    stmt=\"run_bisect(data, to_lookup)\", globals=globals(), number=10\n",
    ")\n",
    "\n",
    "print(f\"이진 검색: {comparison:.6f}초\")\n",
    "\n",
    "slowdown = 1 + ((baseline - comparison) / comparison)\n",
    "print(f\"선형 검색이 {slowdown:.1f}배 더 걸림\")"
   ]
  },
  {
   "cell_type": "code",
   "execution_count": 1,
   "metadata": {},
   "outputs": [
    {
     "name": "stdout",
     "output_type": "stream",
     "text": [
      "91234\n",
      "91235\n",
      "91234\n",
      "91235\n",
      "19.931568569324174\n"
     ]
    }
   ],
   "source": [
    "import math\n",
    "from bisect import bisect_left\n",
    "\n",
    "# data 리스트에 0부터 99,999까지의 정수를 저장\n",
    "data = list(range(10**5))\n",
    "\n",
    "# 리스트에서 값 찾기 (선형 검색)\n",
    "# data.index 메서드를 사용하여 리스트에서 값을 찾으면 선형 시간이 소요\n",
    "index = data.index(91234)\n",
    "print(index)  # 출력: 91234\n",
    "\n",
    "# 가장 가까운 인덱스 찾기 (선형 검색)\n",
    "def find_closest(sequence, goal):\n",
    "    for index, value in enumerate(sequence):\n",
    "        if goal < value:\n",
    "            return index\n",
    "    raise ValueError(f'{goal} is out of bounds')\n",
    "\n",
    "index = find_closest(data, 91234.56)\n",
    "\n",
    "print(index)  # 출력: 91235\n",
    "\n",
    "# bisect_left 함수를 사용한 이진 검색\n",
    "index = bisect_left(data, 91234)  # 정확한 값\n",
    "print(index)  # 출력: 91234\n",
    "\n",
    "index = bisect_left(data, 91234.56)  # 가장 가까운 값\n",
    "print(index)  # 출력: 91235\n",
    "\n",
    "# 성능 비교\n",
    "print(math.log2(10**6))  # 출력: 19.93..."
   ]
  },
  {
   "cell_type": "markdown",
   "metadata": {},
   "source": [
    "#### <span style=\"color: yellowgreen\">**_Summary_**</span>\n",
    "\n",
    "&emsp; &#9312; 목록에 포함된 정렬된 데이터를 검색하는 데는 선형 시간이 소요<br><br>\n",
    "&emsp; &#9313; bisect 내장 모듈의 bisect_left 함수는 정렬된 목록에서 값을 검색하며 속도가 빠름"
   ]
  }
 ],
 "metadata": {
  "kernelspec": {
   "display_name": "Python 3",
   "language": "python",
   "name": "python3"
  },
  "language_info": {
   "codemirror_mode": {
    "name": "ipython",
    "version": 3
   },
   "file_extension": ".py",
   "mimetype": "text/x-python",
   "name": "python",
   "nbconvert_exporter": "python",
   "pygments_lexer": "ipython3",
   "version": "3.8.19"
  }
 },
 "nbformat": 4,
 "nbformat_minor": 2
}
