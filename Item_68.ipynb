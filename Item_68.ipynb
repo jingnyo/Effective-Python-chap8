{
 "cells": [
  {
   "cell_type": "markdown",
   "metadata": {},
   "source": [
    "### **<u>Item 68: Make pickle Reliable with copyreg</u>**\n",
    "- copyreg를 사용해 pickle을 더 신뢰성 있게 만들자"
   ]
  },
  {
   "cell_type": "markdown",
   "metadata": {},
   "source": [
    "#### <span style=\"color: yellowgreen\">**_(1) pickle_**</span>\n",
    "&emsp; - pickle은 python 객체를 직렬화하여 bin 형태로 저장하기 위해 제공되는 모듈 <br><br>\n",
    "&emsp; - 버전이 서로 다른 상태에서 데이터를 load한 경우 신규 버전의 변수가 반영되지 않는다는 한계점 존재"
   ]
  },
  {
   "cell_type": "code",
   "execution_count": 1,
   "metadata": {},
   "outputs": [],
   "source": [
    "# 피클링\n",
    "\n",
    "import pickle\n",
    "\n",
    "name = 'test'\n",
    "content = 'hmm...'\n",
    "date = {'year': 2023, 'month': 9, 'day':3}\n",
    "\n",
    "with open('test_pickel.p', 'wb') as file:    # james.p 파일을 바이너리 쓰기 모드(wb)로 열기\n",
    "    pickle.dump(name, file)\n",
    "    pickle.dump(content, file)\n",
    "    pickle.dump(date, file)"
   ]
  },
  {
   "cell_type": "code",
   "execution_count": 2,
   "metadata": {},
   "outputs": [
    {
     "name": "stdout",
     "output_type": "stream",
     "text": [
      "test hmm... {'year': 2023, 'month': 9, 'day': 3}\n"
     ]
    }
   ],
   "source": [
    "# 언피클링\n",
    "\n",
    "with open('test_pickel.p', 'rb') as file:    # james.p 파일을 바이너리 쓰기 모드(wb)로 열기\n",
    "    name = pickle.load(file)\n",
    "    content = pickle.load(file)\n",
    "    date = pickle.load(file)\n",
    "    print(name, content, date)"
   ]
  },
  {
   "cell_type": "markdown",
   "metadata": {},
   "source": [
    "&emsp; 1. **게임 상태 정의** <br><br>\n",
    "&emsp;&emsp; - 게임의 상태를 관리하기 위해 GameState라는 클래스를 정의하고, 그 객체를 통해 현재 게임의 레벨과 남은 생명수를 추적"
   ]
  },
  {
   "cell_type": "code",
   "execution_count": 3,
   "metadata": {},
   "outputs": [],
   "source": [
    "import pickle\n",
    "\n",
    "class GameState:\n",
    "    def __init__(self, level=0, lives=4):\n",
    "        self.level = level\n",
    "        self.lives = lives\n",
    "\n",
    "# 게임 상태 저장\n",
    "state = GameState()\n",
    "state.level += 1\n",
    "state.lives -= 1"
   ]
  },
  {
   "cell_type": "markdown",
   "metadata": {},
   "source": [
    "&emsp; 2. **게임 상태 저장 및 호출** <br><br>\n",
    "&emsp;&emsp; - pickle 모듈을 사용해서 GameState 객체를 파일에 저장 (직렬화) 하고, 나중에 이 파일을 다시 불러와 (역직렬화) 객체를 복원"
   ]
  },
  {
   "cell_type": "code",
   "execution_count": 4,
   "metadata": {},
   "outputs": [
    {
     "name": "stdout",
     "output_type": "stream",
     "text": [
      "{'level': 1, 'lives': 3}\n"
     ]
    }
   ],
   "source": [
    "state_path = 'game_state.bin'\n",
    "\n",
    "# 객체 직렬화하여 파일에 저장\n",
    "with open(state_path, 'wb') as f:\n",
    "    pickle.dump(state, f)\n",
    "\n",
    "#  파일에서 객체 역직렬화\n",
    "with open(state_path, 'rb') as f:\n",
    "    state_after = pickle.load(f)\n",
    "    \n",
    "print(state_after.__dict__)"
   ]
  },
  {
   "cell_type": "markdown",
   "metadata": {},
   "source": [
    "&emsp; 3. **새로운 속성 추가** <br><br>\n",
    "&emsp;&emsp; - 플레이어가 얻은 점수 points 속성을 새롭게 추가"
   ]
  },
  {
   "cell_type": "code",
   "execution_count": 5,
   "metadata": {},
   "outputs": [],
   "source": [
    "class GameState:\n",
    "    def __init__(self):\n",
    "        self.level = 0\n",
    "        self.lives = 4\n",
    "        self.points = 0  # New field"
   ]
  },
  {
   "cell_type": "code",
   "execution_count": 6,
   "metadata": {},
   "outputs": [
    {
     "name": "stdout",
     "output_type": "stream",
     "text": [
      "{'level': 0, 'lives': 4, 'points': 0}\n"
     ]
    }
   ],
   "source": [
    "# 새로운 버전을 직렬화 하고 로드\n",
    "\n",
    "state = GameState()\n",
    "serialized = pickle.dumps(state)\n",
    "state_after = pickle.loads(serialized)\n",
    "print(state_after.__dict__)"
   ]
  },
  {
   "cell_type": "markdown",
   "metadata": {},
   "source": [
    "&emsp; 4. **이전 게임 상태 로드 및 호환성 문제** <br><br>"
   ]
  },
  {
   "cell_type": "code",
   "execution_count": 9,
   "metadata": {},
   "outputs": [
    {
     "name": "stdout",
     "output_type": "stream",
     "text": [
      "{'level': 1, 'lives': 3}\n"
     ]
    }
   ],
   "source": [
    "with open(state_path, 'rb') as f:\n",
    "    state_after = pickle.load(f)\n",
    "    \n",
    "print(state_after.__dict__)"
   ]
  },
  {
   "cell_type": "markdown",
   "metadata": {},
   "source": [
    "#### <span style=\"color: yellowgreen\">**_(2) copyreg_**</span>\n",
    "\n",
    "&emsp; - copyreg모듈로 파이썬 객체를 직렬화할 함수를 등록하여 pickle의 동작을 제어하고 pickle을 더 신뢰할 수 있게 함 <br><br>"
   ]
  },
  {
   "cell_type": "code",
   "execution_count": 11,
   "metadata": {},
   "outputs": [],
   "source": [
    "# 기본 인수가 있는 생성자를 사용\n",
    "class GameState:\n",
    "    def __init__(self, level=0, lives=4, points=0):\n",
    "        self.level = level\n",
    "        self.lives = lives\n",
    "        self.points = points\n",
    "\n",
    "\n",
    "#필요한 도우미 함수 만들기\n",
    "def pickle_game_state(game_state):\n",
    "    kwargs = game_state.__dict__\n",
    "    return unpickle_game_state, (kwargs,)\n",
    "\n",
    "def unpickle_game_state(kwargs):\n",
    "    return GameState(**kwargs)"
   ]
  },
  {
   "cell_type": "code",
   "execution_count": 12,
   "metadata": {},
   "outputs": [
    {
     "name": "stdout",
     "output_type": "stream",
     "text": [
      "{'level': 0, 'lives': 4, 'points': 1000}\n"
     ]
    }
   ],
   "source": [
    "import copyreg\n",
    "\n",
    "# 내장 모듈 copyreg로 GameState 객체와 직렬화 함수를 등록\n",
    "copyreg.pickle(GameState, pickle_game_state)\n",
    "\n",
    "# 직렬화와 역직렬화는 이전과 동일하게 동작\n",
    "state = GameState()\n",
    "state.points += 1000\n",
    "serialized = pickle.dumps(state)\n",
    "state_after = pickle.loads(serialized)\n",
    "print(state_after.__dict__)"
   ]
  },
  {
   "cell_type": "markdown",
   "metadata": {},
   "source": [
    "&emsp; 6. **다시 새로운 인자 추가** <br><br>"
   ]
  },
  {
   "cell_type": "code",
   "execution_count": 13,
   "metadata": {},
   "outputs": [],
   "source": [
    "class GameState:\n",
    "    def __init__(self, level=0, lives=4, points=0, magic=5):\n",
    "        self.level = level\n",
    "        self.lives = lives\n",
    "        self.points = points\n",
    "        self.magic = magic # New field"
   ]
  },
  {
   "cell_type": "code",
   "execution_count": 14,
   "metadata": {},
   "outputs": [
    {
     "name": "stdout",
     "output_type": "stream",
     "text": [
      "Before: {'level': 0, 'lives': 4, 'points': 1000}\n",
      "After:  {'level': 0, 'lives': 4, 'points': 1000, 'magic': 5}\n"
     ]
    }
   ],
   "source": [
    "print('Before:', state.__dict__)\n",
    "state_after = pickle.loads(serialized)\n",
    "print('After: ', state_after.__dict__)"
   ]
  },
  {
   "cell_type": "markdown",
   "metadata": {},
   "source": [
    "#### <span style=\"color: yellowgreen\">**_Summary_**</span>\n",
    "\n",
    "&emsp; &#9312; pickle 내장 모듈은 신뢰할 수 있는 프로그램 간의 객체를 직렬화 하고 역직렬화하는 데에만 유용함<br><br>\n",
    "&emsp; &#9313; 이전에 피클된 객체를 역직렬화 하는 작업은 관련 클래스가 시간이 지남에 따라 변경된 경우 중단될 수 있음 <br><br>\n",
    "&emsp; &#9314; 따라서 copyreg 모듈을 함께 사용하여 직렬화된 객체의 이전 버전과의 호환성을 보장해야함"
   ]
  }
 ],
 "metadata": {
  "kernelspec": {
   "display_name": "Python 3",
   "language": "python",
   "name": "python3"
  },
  "language_info": {
   "codemirror_mode": {
    "name": "ipython",
    "version": 3
   },
   "file_extension": ".py",
   "mimetype": "text/x-python",
   "name": "python",
   "nbconvert_exporter": "python",
   "pygments_lexer": "ipython3",
   "version": "3.8.19"
  }
 },
 "nbformat": 4,
 "nbformat_minor": 2
}
